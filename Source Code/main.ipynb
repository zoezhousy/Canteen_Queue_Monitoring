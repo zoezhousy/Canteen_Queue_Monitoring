{
 "cells": [
  {
   "cell_type": "code",
   "execution_count": 3,
   "metadata": {},
   "outputs": [
    {
     "name": "stdout",
     "output_type": "stream",
     "text": [
      "c:\\Users\\zoezh\\Desktop\\Project\\Source Code\\yolov5\\yolov5\n"
     ]
    },
    {
     "name": "stderr",
     "output_type": "stream",
     "text": [
      "Cloning into 'yolov5'...\n"
     ]
    },
    {
     "name": "stdout",
     "output_type": "stream",
     "text": [
      "Defaulting to user installation because normal site-packages is not writeable\n",
      "Looking in indexes: https://pypi.tuna.tsinghua.edu.cn/simple/\n",
      "Requirement already satisfied: gitpython>=3.1.30 in c:\\users\\zoezh\\appdata\\roaming\\python\\python39\\site-packages (from -r requirements.txt (line 5)) (3.1.43)\n",
      "Requirement already satisfied: matplotlib>=3.3 in c:\\users\\zoezh\\appdata\\roaming\\python\\python39\\site-packages (from -r requirements.txt (line 6)) (3.8.3)\n",
      "Requirement already satisfied: numpy>=1.23.5 in c:\\users\\zoezh\\appdata\\roaming\\python\\python39\\site-packages (from -r requirements.txt (line 7)) (1.26.4)\n",
      "Requirement already satisfied: opencv-python>=4.1.1 in c:\\users\\zoezh\\appdata\\roaming\\python\\python39\\site-packages (from -r requirements.txt (line 8)) (4.7.0.72)\n",
      "Collecting pillow>=10.3.0 (from -r requirements.txt (line 9))\n",
      "  Downloading https://pypi.tuna.tsinghua.edu.cn/packages/0b/d7/3a9cfa80a3ff59fddfe3b5bd1cf5728e7ed6608678ce9f23e79f35e87805/pillow-10.3.0-cp39-cp39-win_amd64.whl (2.5 MB)\n",
      "     ---------------------------------------- 0.0/2.5 MB ? eta -:--:--\n",
      "     ---- ----------------------------------- 0.3/2.5 MB 8.3 MB/s eta 0:00:01\n",
      "     ----- ---------------------------------- 0.4/2.5 MB 5.7 MB/s eta 0:00:01\n",
      "     -------- ------------------------------- 0.5/2.5 MB 4.2 MB/s eta 0:00:01\n",
      "     -------- ------------------------------- 0.6/2.5 MB 4.3 MB/s eta 0:00:01\n",
      "     -------- ------------------------------- 0.6/2.5 MB 4.3 MB/s eta 0:00:01\n",
      "     --------- ------------------------------ 0.6/2.5 MB 2.4 MB/s eta 0:00:01\n",
      "     --------- ------------------------------ 0.6/2.5 MB 2.4 MB/s eta 0:00:01\n",
      "     ---------- ----------------------------- 0.7/2.5 MB 1.8 MB/s eta 0:00:02\n",
      "     --------------- ------------------------ 1.0/2.5 MB 2.5 MB/s eta 0:00:01\n",
      "     --------------- ------------------------ 1.0/2.5 MB 2.4 MB/s eta 0:00:01\n",
      "     ----------------- ---------------------- 1.1/2.5 MB 2.3 MB/s eta 0:00:01\n",
      "     ----------------------- ---------------- 1.5/2.5 MB 2.7 MB/s eta 0:00:01\n",
      "     ------------------------- -------------- 1.6/2.5 MB 2.7 MB/s eta 0:00:01\n",
      "     -------------------------- ------------- 1.7/2.5 MB 2.6 MB/s eta 0:00:01\n",
      "     ----------------------------- ---------- 1.9/2.5 MB 2.7 MB/s eta 0:00:01\n",
      "     --------------------------------- ------ 2.1/2.5 MB 2.9 MB/s eta 0:00:01\n",
      "     ----------------------------------- ---- 2.3/2.5 MB 2.9 MB/s eta 0:00:01\n",
      "     ----------------------------------- ---- 2.3/2.5 MB 2.9 MB/s eta 0:00:01\n",
      "     ---------------------------------------  2.5/2.5 MB 2.9 MB/s eta 0:00:01\n",
      "     ---------------------------------------- 2.5/2.5 MB 2.8 MB/s eta 0:00:00\n",
      "Requirement already satisfied: psutil in c:\\users\\zoezh\\appdata\\roaming\\python\\python39\\site-packages (from -r requirements.txt (line 10)) (5.8.0)\n",
      "Requirement already satisfied: PyYAML>=5.3.1 in c:\\users\\zoezh\\appdata\\roaming\\python\\python39\\site-packages (from -r requirements.txt (line 11)) (6.0)\n",
      "Requirement already satisfied: requests>=2.23.0 in c:\\users\\zoezh\\appdata\\roaming\\python\\python39\\site-packages (from -r requirements.txt (line 12)) (2.26.0)\n",
      "Requirement already satisfied: scipy>=1.4.1 in c:\\users\\zoezh\\appdata\\roaming\\python\\python39\\site-packages (from -r requirements.txt (line 13)) (1.12.0)\n",
      "Requirement already satisfied: thop>=0.1.1 in c:\\users\\zoezh\\appdata\\roaming\\python\\python39\\site-packages (from -r requirements.txt (line 14)) (0.1.1.post2209072238)\n",
      "Requirement already satisfied: torch>=1.8.0 in c:\\users\\zoezh\\appdata\\roaming\\python\\python39\\site-packages (from -r requirements.txt (line 15)) (2.2.1+cu121)\n",
      "Requirement already satisfied: torchvision>=0.9.0 in c:\\users\\zoezh\\appdata\\roaming\\python\\python39\\site-packages (from -r requirements.txt (line 16)) (0.17.1+cu121)\n",
      "Requirement already satisfied: tqdm>=4.64.0 in c:\\users\\zoezh\\appdata\\roaming\\python\\python39\\site-packages (from -r requirements.txt (line 17)) (4.66.2)\n",
      "Requirement already satisfied: ultralytics>=8.0.232 in c:\\users\\zoezh\\appdata\\roaming\\python\\python39\\site-packages (from -r requirements.txt (line 18)) (8.2.4)\n",
      "Requirement already satisfied: pandas>=1.1.4 in c:\\users\\zoezh\\appdata\\roaming\\python\\python39\\site-packages (from -r requirements.txt (line 27)) (1.3.3)\n",
      "Requirement already satisfied: seaborn>=0.11.0 in c:\\users\\zoezh\\appdata\\roaming\\python\\python39\\site-packages (from -r requirements.txt (line 28)) (0.13.2)\n",
      "Requirement already satisfied: setuptools>=65.5.1 in c:\\users\\zoezh\\appdata\\roaming\\python\\python39\\site-packages (from -r requirements.txt (line 42)) (69.5.1)\n",
      "Collecting wheel>=0.38.0 (from -r requirements.txt (line 50))\n",
      "  Using cached https://pypi.tuna.tsinghua.edu.cn/packages/7d/cd/d7460c9a869b16c3dd4e1e403cce337df165368c71d6af229a74699622ce/wheel-0.43.0-py3-none-any.whl (65 kB)\n",
      "Requirement already satisfied: gitdb<5,>=4.0.1 in c:\\users\\zoezh\\appdata\\roaming\\python\\python39\\site-packages (from gitpython>=3.1.30->-r requirements.txt (line 5)) (4.0.11)\n",
      "Requirement already satisfied: contourpy>=1.0.1 in c:\\users\\zoezh\\appdata\\roaming\\python\\python39\\site-packages (from matplotlib>=3.3->-r requirements.txt (line 6)) (1.2.0)\n",
      "Requirement already satisfied: cycler>=0.10 in c:\\users\\zoezh\\appdata\\roaming\\python\\python39\\site-packages (from matplotlib>=3.3->-r requirements.txt (line 6)) (0.10.0)\n",
      "Requirement already satisfied: fonttools>=4.22.0 in c:\\users\\zoezh\\appdata\\roaming\\python\\python39\\site-packages (from matplotlib>=3.3->-r requirements.txt (line 6)) (4.49.0)\n",
      "Requirement already satisfied: kiwisolver>=1.3.1 in c:\\users\\zoezh\\appdata\\roaming\\python\\python39\\site-packages (from matplotlib>=3.3->-r requirements.txt (line 6)) (1.4.5)\n",
      "Requirement already satisfied: packaging>=20.0 in c:\\users\\zoezh\\appdata\\roaming\\python\\python39\\site-packages (from matplotlib>=3.3->-r requirements.txt (line 6)) (21.0)\n",
      "Requirement already satisfied: pyparsing>=2.3.1 in c:\\users\\zoezh\\appdata\\roaming\\python\\python39\\site-packages (from matplotlib>=3.3->-r requirements.txt (line 6)) (2.4.7)\n",
      "Requirement already satisfied: python-dateutil>=2.7 in c:\\users\\zoezh\\appdata\\roaming\\python\\python39\\site-packages (from matplotlib>=3.3->-r requirements.txt (line 6)) (2.8.2)\n",
      "Requirement already satisfied: importlib-resources>=3.2.0 in c:\\users\\zoezh\\appdata\\roaming\\python\\python39\\site-packages (from matplotlib>=3.3->-r requirements.txt (line 6)) (6.1.3)\n",
      "Requirement already satisfied: urllib3<1.27,>=1.21.1 in c:\\users\\zoezh\\appdata\\roaming\\python\\python39\\site-packages (from requests>=2.23.0->-r requirements.txt (line 12)) (1.26.7)\n",
      "Requirement already satisfied: certifi>=2017.4.17 in c:\\users\\zoezh\\appdata\\roaming\\python\\python39\\site-packages (from requests>=2.23.0->-r requirements.txt (line 12)) (2023.7.22)\n",
      "Requirement already satisfied: charset-normalizer~=2.0.0 in c:\\users\\zoezh\\appdata\\roaming\\python\\python39\\site-packages (from requests>=2.23.0->-r requirements.txt (line 12)) (2.0.7)\n",
      "Requirement already satisfied: idna<4,>=2.5 in c:\\users\\zoezh\\appdata\\roaming\\python\\python39\\site-packages (from requests>=2.23.0->-r requirements.txt (line 12)) (2.10)\n",
      "Requirement already satisfied: filelock in c:\\users\\zoezh\\appdata\\roaming\\python\\python39\\site-packages (from torch>=1.8.0->-r requirements.txt (line 15)) (3.13.1)\n",
      "Requirement already satisfied: typing-extensions>=4.8.0 in c:\\users\\zoezh\\appdata\\roaming\\python\\python39\\site-packages (from torch>=1.8.0->-r requirements.txt (line 15)) (4.10.0)\n",
      "Requirement already satisfied: sympy in c:\\users\\zoezh\\appdata\\roaming\\python\\python39\\site-packages (from torch>=1.8.0->-r requirements.txt (line 15)) (1.12)\n",
      "Requirement already satisfied: networkx in c:\\users\\zoezh\\appdata\\roaming\\python\\python39\\site-packages (from torch>=1.8.0->-r requirements.txt (line 15)) (3.2.1)\n",
      "Requirement already satisfied: jinja2 in c:\\users\\zoezh\\appdata\\roaming\\python\\python39\\site-packages (from torch>=1.8.0->-r requirements.txt (line 15)) (3.1.3)\n",
      "Requirement already satisfied: fsspec in c:\\users\\zoezh\\appdata\\roaming\\python\\python39\\site-packages (from torch>=1.8.0->-r requirements.txt (line 15)) (2024.3.1)\n",
      "Requirement already satisfied: colorama in c:\\users\\zoezh\\appdata\\roaming\\python\\python39\\site-packages (from tqdm>=4.64.0->-r requirements.txt (line 17)) (0.4.4)\n",
      "Requirement already satisfied: py-cpuinfo in c:\\users\\zoezh\\appdata\\roaming\\python\\python39\\site-packages (from ultralytics>=8.0.232->-r requirements.txt (line 18)) (9.0.0)\n",
      "Requirement already satisfied: pytz>=2017.3 in c:\\users\\zoezh\\appdata\\roaming\\python\\python39\\site-packages (from pandas>=1.1.4->-r requirements.txt (line 27)) (2021.3)\n",
      "Requirement already satisfied: six in c:\\users\\zoezh\\appdata\\roaming\\python\\python39\\site-packages (from cycler>=0.10->matplotlib>=3.3->-r requirements.txt (line 6)) (1.16.0)\n",
      "Requirement already satisfied: smmap<6,>=3.0.1 in c:\\users\\zoezh\\appdata\\roaming\\python\\python39\\site-packages (from gitdb<5,>=4.0.1->gitpython>=3.1.30->-r requirements.txt (line 5)) (5.0.1)\n",
      "Requirement already satisfied: zipp>=3.1.0 in c:\\users\\zoezh\\appdata\\roaming\\python\\python39\\site-packages (from importlib-resources>=3.2.0->matplotlib>=3.3->-r requirements.txt (line 6)) (3.6.0)\n",
      "Requirement already satisfied: MarkupSafe>=2.0 in c:\\users\\zoezh\\appdata\\roaming\\python\\python39\\site-packages (from jinja2->torch>=1.8.0->-r requirements.txt (line 15)) (2.1.5)\n",
      "Requirement already satisfied: mpmath>=0.19 in c:\\users\\zoezh\\appdata\\roaming\\python\\python39\\site-packages (from sympy->torch>=1.8.0->-r requirements.txt (line 15)) (1.3.0)\n",
      "Installing collected packages: wheel, pillow\n",
      "  Attempting uninstall: pillow\n",
      "    Found existing installation: Pillow 9.5.0\n",
      "    Uninstalling Pillow-9.5.0:\n",
      "      Successfully uninstalled Pillow-9.5.0\n",
      "Successfully installed pillow-10.3.0 wheel-0.43.0\n",
      "Note: you may need to restart the kernel to use updated packages.\n"
     ]
    },
    {
     "name": "stderr",
     "output_type": "stream",
     "text": [
      "  WARNING: Failed to remove contents in a temporary directory 'C:\\Users\\zoezh\\AppData\\Roaming\\Python\\Python39\\site-packages\\~-l'.\n",
      "  You can safely remove it manually.\n",
      "ERROR: pip's dependency resolver does not currently take into account all the packages that are installed. This behaviour is the source of the following dependency conflicts.\n",
      "flask-simple-captcha 5.2.1 requires Pillow<10,>4, but you have pillow 10.3.0 which is incompatible.\n",
      "flask-simple-captcha 5.2.1 requires Werkzeug<3,>=0.16.0, but you have werkzeug 3.0.2 which is incompatible.\n"
     ]
    }
   ],
   "source": [
    "!git clone https://github.com/ultralytics/yolov5\n",
    "%cd yolov5\n",
    "%pip install -r requirements.txt"
   ]
  },
  {
   "cell_type": "code",
   "execution_count": 19,
   "metadata": {},
   "outputs": [
    {
     "name": "stdout",
     "output_type": "stream",
     "text": [
      "New frame captured: 0\n",
      "New frame captured: 1\n",
      "New frame captured: 2\n",
      "New frame captured: 3\n",
      "New frame captured: 4\n",
      "New frame captured: 5\n"
     ]
    }
   ],
   "source": [
    "import cv2\n",
    "import os\n",
    "\n",
    "import dlib\n",
    "# pip install boost\n",
    "# pip install cmake\n",
    "# pip install dlib\n",
    "\n",
    "import torch\n",
    "import numpy as np\n",
    "from matplotlib import pyplot as plt\n",
    "from matplotlib import patches\n",
    "\n",
    "video_name = '../Dataset/video/Communal2.mp4'\n",
    "cap = cv2.VideoCapture(video_name)\n",
    "\n",
    "time_skips = float(1000) #skip every 1 seconds. modify if need\n",
    "\n",
    "count = 0\n",
    "success,image = cap.read()\n",
    "while success:\n",
    "    # save image\n",
    "    cv2.imwrite(\"../Dataset/images/frame%d.jpg\" % count, image)     \n",
    "    cap.set(cv2.CAP_PROP_POS_MSEC, (count*time_skips))\n",
    "    print('New frame captured: ' + str(count))\n",
    "\n",
    "    # move the time\n",
    "    success,image = cap.read()\n",
    "    count += 1\n",
    "\n",
    "# release after reading    \n",
    "cap.release()\n",
    "# cv2.destroyAllWindows()\n",
    "# pip install windows\n",
    "# pip install PyGTK"
   ]
  },
  {
   "cell_type": "code",
   "execution_count": 21,
   "metadata": {},
   "outputs": [
    {
     "name": "stderr",
     "output_type": "stream",
     "text": [
      "YOLOv5  2024-4-29 Python-3.9.7 torch-2.2.1+cu121 CUDA:0 (NVIDIA GeForce RTX 3050 Ti Laptop GPU, 4096MiB)\n"
     ]
    },
    {
     "name": "stdout",
     "output_type": "stream",
     "text": [
      "Setup complete  (16 CPUs, 15.7 GB RAM, 413.9/727.5 GB disk)\n"
     ]
    }
   ],
   "source": [
    "from yolov5 import utils\n",
    "display = utils.notebook_init()\n",
    "os.makedirs('../Dataset/images', exist_ok=True)"
   ]
  }
 ],
 "metadata": {
  "kernelspec": {
   "display_name": "Python 3",
   "language": "python",
   "name": "python3"
  },
  "language_info": {
   "codemirror_mode": {
    "name": "ipython",
    "version": 3
   },
   "file_extension": ".py",
   "mimetype": "text/x-python",
   "name": "python",
   "nbconvert_exporter": "python",
   "pygments_lexer": "ipython3",
   "version": "3.9.7"
  }
 },
 "nbformat": 4,
 "nbformat_minor": 2
}
